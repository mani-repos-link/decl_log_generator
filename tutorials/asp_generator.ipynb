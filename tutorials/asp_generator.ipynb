{
 "cells": [
  {
   "cell_type": "code",
   "execution_count": 1,
   "id": "1eb21bf2-bf41-46b2-96e3-806047cc8cb1",
   "metadata": {},
   "outputs": [
    {
     "name": "stdout",
     "output_type": "stream",
     "text": [
      "Python 3.9.12\n"
     ]
    }
   ],
   "source": [
    "!python --version"
   ]
  },
  {
   "cell_type": "code",
   "execution_count": 2,
   "id": "d5d2c259-df33-4c09-9663-e9b5b678ba9e",
   "metadata": {},
   "outputs": [],
   "source": [
    "%config Completer.use_jedi = False\n",
    "import sys\n",
    "import os\n",
    "import pathlib\n",
    "\n",
    "SCRIPT_DIR = os.path.join(pathlib.Path(\"../src/\").resolve())\n",
    "sys.path.append(os.path.dirname(SCRIPT_DIR))\n",
    "# print(SCRIPT_DIR)\n",
    "\n",
    "from src.log_generator.ASPGenerator import ASPGenerator"
   ]
  },
  {
   "cell_type": "code",
   "execution_count": 4,
   "id": "4b2d84b6-6a5a-4b3c-a0bb-335981eb6374",
   "metadata": {},
   "outputs": [
    {
     "name": "stderr",
     "output_type": "stream",
     "text": [
      "exporting log, completed traces :: 100%|█████████████████████████████████████████████████████████████████████████████████████████████████████████████████████████████████████| 4/4 [00:00<00:00, 3849.75it/s]\n"
     ]
    }
   ],
   "source": [
    "decl_file = os.path.join(pathlib.Path(\"./tutorials/decl_files/Response.decl\").resolve())\n",
    "template_lp = os.path.join(pathlib.Path(\"./tutorials/lp/templates.lp\").resolve())\n",
    "encoding_file = os.path.join(pathlib.Path(\"./tutorials/lp/generation_encoding.lp\").resolve())\n",
    "output_file = os.path.join(pathlib.Path(\"./tutorials/generated_exporter.xes\").resolve())\n",
    "\n",
    "asp = ASPGenerator(4, 2, 6, decl_file, template_lp, encoding_file)\n",
    "\n",
    "asp.run()\n",
    "asp.to_xes(output_file)"
   ]
  }
 ],
 "metadata": {
  "kernelspec": {
   "display_name": "Python 3 (ipykernel)",
   "language": "python",
   "name": "python3"
  },
  "language_info": {
   "codemirror_mode": {
    "name": "ipython",
    "version": 3
   },
   "file_extension": ".py",
   "mimetype": "text/x-python",
   "name": "python",
   "nbconvert_exporter": "python",
   "pygments_lexer": "ipython3",
   "version": "3.9.12"
  }
 },
 "nbformat": 4,
 "nbformat_minor": 5
}
