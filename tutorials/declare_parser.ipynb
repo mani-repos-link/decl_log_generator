{
 "cells": [
  {
   "cell_type": "code",
   "execution_count": 1,
   "id": "397b2bd8-c0b3-4893-b7eb-4058bfe907c5",
   "metadata": {},
   "outputs": [
    {
     "name": "stdout",
     "output_type": "stream",
     "text": [
      "Python 3.9.12\n"
     ]
    }
   ],
   "source": [
    "!python --version"
   ]
  },
  {
   "cell_type": "code",
   "execution_count": 2,
   "id": "e04dca9d-662a-4849-bdf8-6499eaa49ad9",
   "metadata": {},
   "outputs": [],
   "source": [
    "%config Completer.use_jedi = False"
   ]
  },
  {
   "cell_type": "code",
   "execution_count": 3,
   "id": "ce70218b-859e-4264-93f3-73e0d78c29b8",
   "metadata": {},
   "outputs": [],
   "source": [
    "import sys\n",
    "import os\n",
    "import pathlib\n",
    "\n",
    "SCRIPT_DIR = os.path.join(pathlib.Path(\"../src/\").resolve())\n",
    "sys.path.append(os.path.dirname(SCRIPT_DIR))\n",
    "# print(SCRIPT_DIR)\n",
    "\n",
    "\n",
    "from src.log_generator.parsers.declare.declare import DeclareParser\n",
    "from src.log_generator.alp.declare2Lp import Declare2lp\n"
   ]
  },
  {
   "cell_type": "code",
   "execution_count": 4,
   "id": "c02a6f8c-855b-43fc-abb0-5a7d287dd3c3",
   "metadata": {},
   "outputs": [],
   "source": [
    "decl_file_model = \"decl_files/Response.decl\""
   ]
  },
  {
   "cell_type": "code",
   "execution_count": 5,
   "id": "94b22203-c5d8-4c24-b0c8-60aff489fc24",
   "metadata": {},
   "outputs": [],
   "source": [
    "with open(decl_file_model, \"r\") as fs:\n",
    "    d2a = DeclareParser(fs.read())\n",
    "    dm = d2a.parse()"
   ]
  },
  {
   "cell_type": "code",
   "execution_count": 6,
   "id": "34c7bb94-9eee-4e1e-8468-9d7637c4d4b5",
   "metadata": {},
   "outputs": [
    {
     "name": "stdout",
     "output_type": "stream",
     "text": [
      "activity(a).\n",
      "has_attribute(a, grade).\n",
      "has_attribute(a, mark).\n",
      "has_attribute(a, name).\n",
      "activity(b).\n",
      "has_attribute(b, grade).\n",
      "has_attribute(b, mark).\n",
      "has_attribute(b, name).\n",
      "\n",
      "value(grade, 1..5).\n",
      "value(mark, 1..5).\n",
      "value(name, x).\n",
      "value(name, y).\n",
      "value(name, z).\n",
      "value(name, v).\n",
      "\n",
      "template(0,\"Response\").\n",
      "activation(0,a).\n",
      "activation_condition(0,T) :- activation_condition_12(0,T).\n",
      "activation_condition_12(0,T) :- .\n",
      "activation_condition(0,T) :- activation_condition_34(0,T).\n",
      "activation_condition_34(0,T) :- .\n",
      "activation_condition_1(0,T) :- assigned_value(grade,V,T),V>2.\n",
      "activation_condition_2(0,T) :- assigned_value(name,x,T).\n",
      "activation_condition_2(0,T) :- assigned_value(name,y,T).\n",
      "activation_condition_3(0,T) :- assigned_value(grade,V,T),V<3.\n",
      "activation_condition_4(0,T) :- assigned_value(name,z,T).\n",
      "activation_condition_4(0,T) :- assigned_value(name,v,T).\n",
      "\n",
      "target(0,b).\n",
      "correlation_condition(0,T):- correlation_condition_1(0,T).\n",
      "correlation_condition_1(0,T) :- assigned_value(grade,V,T),V>5.\n"
     ]
    }
   ],
   "source": [
    "lp_model = Declare2lp().from_decl(dm)\n",
    "lp = lp_model.__str__()\n",
    "print(lp)"
   ]
  },
  {
   "cell_type": "code",
   "execution_count": null,
   "id": "d7fcec97-0ca0-4b94-85f2-950f4edff563",
   "metadata": {},
   "outputs": [],
   "source": []
  }
 ],
 "metadata": {
  "kernelspec": {
   "display_name": "Python 3 (ipykernel)",
   "language": "python",
   "name": "python3"
  },
  "language_info": {
   "codemirror_mode": {
    "name": "ipython",
    "version": 3
   },
   "file_extension": ".py",
   "mimetype": "text/x-python",
   "name": "python",
   "nbconvert_exporter": "python",
   "pygments_lexer": "ipython3",
   "version": "3.9.12"
  }
 },
 "nbformat": 4,
 "nbformat_minor": 5
}
