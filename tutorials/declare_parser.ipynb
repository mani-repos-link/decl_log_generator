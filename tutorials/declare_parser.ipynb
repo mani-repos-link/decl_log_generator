{
 "cells": [
  {
   "cell_type": "code",
   "execution_count": 1,
   "id": "397b2bd8-c0b3-4893-b7eb-4058bfe907c5",
   "metadata": {},
   "outputs": [
    {
     "name": "stdout",
     "output_type": "stream",
     "text": [
      "Python 3.9.12\n"
     ]
    }
   ],
   "source": [
    "!python --version"
   ]
  },
  {
   "cell_type": "code",
   "execution_count": 2,
   "id": "e04dca9d-662a-4849-bdf8-6499eaa49ad9",
   "metadata": {},
   "outputs": [],
   "source": [
    "%config Completer.use_jedi = False"
   ]
  },
  {
   "cell_type": "code",
   "execution_count": 34,
   "id": "ce70218b-859e-4264-93f3-73e0d78c29b8",
   "metadata": {},
   "outputs": [
    {
     "name": "stdout",
     "output_type": "stream",
     "text": [
      "C:\\Users\\MaSingh\\Desktop\\thesis\\decl_log_generator\n",
      "C:\\Users\\MaSingh\\Desktop\\thesis\n"
     ]
    },
    {
     "ename": "NameError",
     "evalue": "name 'ConstraintTemplates' is not defined",
     "output_type": "error",
     "traceback": [
      "\u001b[1;31m---------------------------------------------------------------------------\u001b[0m",
      "\u001b[1;31mNameError\u001b[0m                                 Traceback (most recent call last)",
      "Cell \u001b[1;32mIn [34], line 11\u001b[0m\n\u001b[0;32m      8\u001b[0m sys\u001b[38;5;241m.\u001b[39mpath\u001b[38;5;241m.\u001b[39mappend(os\u001b[38;5;241m.\u001b[39mpath\u001b[38;5;241m.\u001b[39mdirname(SCRIPT_DIR))\n\u001b[0;32m     10\u001b[0m \u001b[38;5;66;03m# from decl_log_generator.parsers.declare.declare import DeclareParser\u001b[39;00m\n\u001b[1;32m---> 11\u001b[0m \u001b[38;5;28;01mfrom\u001b[39;00m \u001b[38;5;21;01mdecl_log_generator\u001b[39;00m\u001b[38;5;21;01m.\u001b[39;00m\u001b[38;5;21;01malp\u001b[39;00m\u001b[38;5;21;01m.\u001b[39;00m\u001b[38;5;21;01mdeclare2LP\u001b[39;00m \u001b[38;5;28;01mimport\u001b[39;00m DECLARE2LP\n",
      "File \u001b[1;32m~\\Desktop\\thesis\\decl_log_generator\\alp\\declare2LP.py:45\u001b[0m\n\u001b[0;32m     38\u001b[0m             \u001b[38;5;28;01mexcept\u001b[39;00m:\n\u001b[0;32m     39\u001b[0m                 \u001b[38;5;28;01mpass\u001b[39;00m\n\u001b[1;32m---> 45\u001b[0m \u001b[38;5;28;01mclass\u001b[39;00m \u001b[38;5;21;01mLP_BUILDER\u001b[39;00m:\n\u001b[0;32m     46\u001b[0m     lines: [\u001b[38;5;28mstr\u001b[39m] \u001b[38;5;241m=\u001b[39m []\n\u001b[0;32m     47\u001b[0m     attributes_values: [\u001b[38;5;28mstr\u001b[39m] \u001b[38;5;241m=\u001b[39m []\n",
      "File \u001b[1;32m~\\Desktop\\thesis\\decl_log_generator\\alp\\declare2LP.py:84\u001b[0m, in \u001b[0;36mLP_BUILDER\u001b[1;34m()\u001b[0m\n\u001b[0;32m     81\u001b[0m     \u001b[38;5;28;01mif\u001b[39;00m val_lp \u001b[38;5;129;01mnot\u001b[39;00m \u001b[38;5;129;01min\u001b[39;00m \u001b[38;5;28mself\u001b[39m\u001b[38;5;241m.\u001b[39mattributes_values:\n\u001b[0;32m     82\u001b[0m         \u001b[38;5;28mself\u001b[39m\u001b[38;5;241m.\u001b[39mattributes_values\u001b[38;5;241m.\u001b[39mappend(val_lp)\n\u001b[1;32m---> 84\u001b[0m \u001b[38;5;28;01mdef\u001b[39;00m \u001b[38;5;21madd_template\u001b[39m(\u001b[38;5;28mself\u001b[39m, name, ct: \u001b[43mConstraintTemplates\u001b[49m, idx: \u001b[38;5;28mint\u001b[39m,\n\u001b[0;32m     85\u001b[0m                  props: Dict[\u001b[38;5;28mstr\u001b[39m, typing\u001b[38;5;241m.\u001b[39mList[DeclareEventAttributeType]]):\n\u001b[0;32m     86\u001b[0m     \u001b[38;5;28mself\u001b[39m\u001b[38;5;241m.\u001b[39mtemplates_s\u001b[38;5;241m.\u001b[39mappend(\u001b[38;5;124mf\u001b[39m\u001b[38;5;124m\"\u001b[39m\u001b[38;5;124mtemplate(\u001b[39m\u001b[38;5;132;01m{\u001b[39;00midx\u001b[38;5;132;01m}\u001b[39;00m\u001b[38;5;124m,\u001b[39m\u001b[38;5;130;01m\\\"\u001b[39;00m\u001b[38;5;132;01m{\u001b[39;00mname\u001b[38;5;132;01m}\u001b[39;00m\u001b[38;5;130;01m\\\"\u001b[39;00m\u001b[38;5;124m).\u001b[39m\u001b[38;5;124m\"\u001b[39m)\n\u001b[0;32m     87\u001b[0m     dc \u001b[38;5;241m=\u001b[39m DeclareConstraintConditionResolver()\n",
      "\u001b[1;31mNameError\u001b[0m: name 'ConstraintTemplates' is not defined"
     ]
    }
   ],
   "source": [
    "import sys\n",
    "import os\n",
    "import pathlib\n",
    "\n",
    "SCRIPT_DIR = os.path.join(pathlib.Path(\"./../\").parent.resolve().parent.resolve())\n",
    "sys.path.append(os.path.dirname(SCRIPT_DIR))\n",
    "SCRIPT_DIR = os.path.join(pathlib.Path(\"./../\").parent.resolve().parent.resolve().parent.resolve())\n",
    "sys.path.append(os.path.dirname(SCRIPT_DIR))\n",
    "\n",
    "# from decl_log_generator.parsers.declare.declare import DeclareParser\n",
    "from decl_log_generator.alp.declare2LP import DECLARE2LP\n"
   ]
  },
  {
   "cell_type": "code",
   "execution_count": null,
   "id": "c02a6f8c-855b-43fc-abb0-5a7d287dd3c3",
   "metadata": {},
   "outputs": [],
   "source": [
    "path = \"decl_files/Response.decl\""
   ]
  }
 ],
 "metadata": {
  "kernelspec": {
   "display_name": "Python 3 (ipykernel)",
   "language": "python",
   "name": "python3"
  },
  "language_info": {
   "codemirror_mode": {
    "name": "ipython",
    "version": 3
   },
   "file_extension": ".py",
   "mimetype": "text/x-python",
   "name": "python",
   "nbconvert_exporter": "python",
   "pygments_lexer": "ipython3",
   "version": "3.9.12"
  }
 },
 "nbformat": 4,
 "nbformat_minor": 5
}
